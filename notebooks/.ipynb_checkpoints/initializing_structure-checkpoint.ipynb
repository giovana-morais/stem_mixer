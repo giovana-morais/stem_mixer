{
 "cells": [
  {
   "cell_type": "code",
   "execution_count": null,
   "id": "a5e73f2d-71c4-4738-a7b5-04bab575fb16",
   "metadata": {},
   "outputs": [],
   "source": [
    "# metadata needed - assume user provides as much as possible as pre-processing step, library fills in the rest\n",
    "    # instrument\n",
    "    # tempo\n",
    "    # key\n",
    "    # percussive / bass / vocal"
   ]
  }
 ],
 "metadata": {
  "kernelspec": {
   "display_name": "Python 3 (ipykernel)",
   "language": "python",
   "name": "python3"
  },
  "language_info": {
   "codemirror_mode": {
    "name": "ipython",
    "version": 3
   },
   "file_extension": ".py",
   "mimetype": "text/x-python",
   "name": "python",
   "nbconvert_exporter": "python",
   "pygments_lexer": "ipython3",
   "version": "3.10.12"
  }
 },
 "nbformat": 4,
 "nbformat_minor": 5
}
