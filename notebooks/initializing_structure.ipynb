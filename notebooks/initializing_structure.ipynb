{
 "cells": [
  {
   "cell_type": "code",
   "execution_count": 85,
   "id": "a5e73f2d-71c4-4738-a7b5-04bab575fb16",
   "metadata": {},
   "outputs": [],
   "source": [
    "# metadata needed - assume user provides as much as possible as pre-processing step, library fills in the rest\n",
    "    # instrument\n",
    "    # tempo\n",
    "    # key\n",
    "    # percussive / harmonic / vocal --> sound_class\n",
    "\n",
    "# so our library ultimately takes a stem and its respective metadata folder as input"
   ]
  },
  {
   "cell_type": "code",
   "execution_count": 126,
   "id": "7c131318-62d9-48ca-b303-3be59807e9fd",
   "metadata": {},
   "outputs": [],
   "source": [
    "import os\n",
    "import json\n",
    "import uuid"
   ]
  },
  {
   "cell_type": "code",
   "execution_count": 98,
   "id": "2b5eb695-ae71-456b-9127-056397a90032",
   "metadata": {},
   "outputs": [],
   "source": [
    "# brid-preprocessing\n",
    "# need to assign null in all cases, don't want any empty variables. assign null in \"other\" folders\n",
    "\n",
    "def get_instrument_name(file_path):\n",
    "\n",
    "    instrument_folders = {\n",
    "            \"-PD\" : \"pandeiro\",\n",
    "            \"-TB\": \"tamborim\",\n",
    "            \"-RR\": \"reco-reco\",\n",
    "            \"-CX\": \"caixa\",\n",
    "            \"-RP\": \"repique\",\n",
    "            \"-CU\": \"cuica\",\n",
    "            \"-AG\": \"agogo\",\n",
    "            \"-SK\": \"shaker\",\n",
    "            \"-TT\": \"tanta\",\n",
    "            \"-SU\": \"surdo\"}\n",
    "    for key in instrument_folders:\n",
    "        if key in file_path:\n",
    "            return instrument_folders[key]\n",
    "            \n",
    "    return None\n",
    "\n",
    "def get_tempo(file_path):\n",
    "    \n",
    "    folders = [\"samba\",\"marcha\",\"partido alto\",\"samba-enredo\",\"other\",\"capoeira\"]\n",
    "    \n",
    "    style_folders = {\n",
    "        \"SA.wav\" : \"samba\",\n",
    "        \"PA.wav\": \"partido alto\",\n",
    "        \"CA.wav\": \"capoeira\",\n",
    "        \"SE.wav\": \"samba-enredo\",\n",
    "        \"MA.wav\": \"marcha\",\n",
    "        \"OT.wav\": \"other\"\n",
    "    }\n",
    "\n",
    "    style_to_tempo = {\n",
    "        \"samba\" : 80.0,\n",
    "        \"partido alto\" : 100.0,\n",
    "        \"samba-enredo\" : 130.0,\n",
    "        \"marcha\" : 120.0,\n",
    "        \"capoeira\" : 65.0\n",
    "    }\n",
    "    \n",
    "    style = None\n",
    "    \n",
    "    for suffix in style_folders:\n",
    "        if suffix in file_path:\n",
    "            style = style_folders[suffix]\n",
    "            \n",
    "    if style is None:\n",
    "        return None\n",
    "\n",
    "    if style in style_to_tempo:\n",
    "        return style_to_tempo[style]\n",
    "\n",
    "    return None"
   ]
  },
  {
   "cell_type": "code",
   "execution_count": 127,
   "id": "c3135ca4-9856-4821-b294-0e5dccd329a5",
   "metadata": {},
   "outputs": [],
   "source": [
    "test_path = os.path.join(\"/Users/lgpietrewicz/Documents/stem_mixer/stems\", \"[0111] S1-PD3-04-MA.wav\")"
   ]
  },
  {
   "cell_type": "code",
   "execution_count": 100,
   "id": "54128169-64b3-4522-8fc1-87b4c6f701ea",
   "metadata": {},
   "outputs": [],
   "source": [
    "tempo = get_tempo(test_path)\n",
    "instrument_name = get_instrument_name(test_path)\n",
    "key = None\n",
    "sound_class = \"percussive\""
   ]
  },
  {
   "cell_type": "code",
   "execution_count": 111,
   "id": "109a4130-e1a8-455c-927b-490434981cc4",
   "metadata": {},
   "outputs": [],
   "source": [
    "# musdb pre-processing \n",
    "\n",
    "def get_type_name(file_path):\n",
    "    \n",
    "    type_folders = [\"vocals\", \"drums\", \"bass\", \"other\"]\n",
    "    \n",
    "    for name in type_folders:\n",
    "        if name in file_path:\n",
    "            return name\n",
    "            \n",
    "    return None\n",
    "\n",
    "def get_sound_class(instrument_name):\n",
    "    if instrument_name == \"vocals\":\n",
    "        sound_class = \"vocals\"\n",
    "    elif instrument_name == \"drums\":\n",
    "        sound_class = \"percussive\"\n",
    "    elif instrument_name == \"bass\" or instrument_name == \"other\":\n",
    "        sound_class = \"harmonic\"\n",
    "    else:\n",
    "        sound_class = None\n",
    "\n",
    "    return sound_class"
   ]
  },
  {
   "cell_type": "code",
   "execution_count": 116,
   "id": "049be0f7-0056-4432-9789-3a8d17b80d4d",
   "metadata": {},
   "outputs": [],
   "source": [
    "tempo = None\n",
    "instrument_name = get_type_name(test_path)\n",
    "key = None \n",
    "sound_class = get_sound_class(test_path)"
   ]
  },
  {
   "cell_type": "markdown",
   "id": "881ddc85-e7dd-4d75-823f-85b3e2d7775d",
   "metadata": {},
   "source": [
    "To rename a file in Python, you can use the os. rename() function from the os module. The os. rename() function takes two arguments: the current name of the file or directory (source), and the new name (destination)."
   ]
  },
  {
   "cell_type": "code",
   "execution_count": 129,
   "id": "73906227-70ed-4997-8654-e19f6ab8812f",
   "metadata": {},
   "outputs": [],
   "source": [
    "test_path = os.path.join(\"/Users/lgpietrewicz/Documents/stem_mixer/stems\", \"Cristina Vane - So Easy - vocals.wav\")"
   ]
  },
  {
   "cell_type": "code",
   "execution_count": 146,
   "id": "94f9a91e-0119-4748-8795-9312ea989f67",
   "metadata": {},
   "outputs": [],
   "source": [
    "def metadata_extraction(path_to_stems, tempo = None, instrument_name = None, key = None, sound_class = None):\n",
    "    for root, dirs, files in os.walk(path_to_stems):\n",
    "        for file in files:\n",
    "            file_path = os.path.join(root, file)\n",
    "\n",
    "            if \".json\" in file_path:\n",
    "                continue\n",
    "                \n",
    "            if \".wav\" or \".mp3\" in file_path:\n",
    "                json_name = file_path[0:len(file_path)-4]\n",
    "            else:\n",
    "                json_name = file_path\n",
    "        \n",
    "            metadata = {}\n",
    "            metadata[\"tempo\"] = tempo\n",
    "            metadata[\"instrument_name\"] = instrument_name\n",
    "            metadata[\"key\"] = key\n",
    "            metadata[\"sound_class\"] = sound_class\n",
    "        \n",
    "            json_file_path = os.path.join(path_to_stems, f\"{json_name}.json\")\n",
    "            \n",
    "            with open(json_file_path, 'w') as json_file:\n",
    "                    json.dump(metadata, json_file, indent=4)"
   ]
  },
  {
   "cell_type": "code",
   "execution_count": 147,
   "id": "9d8e97ed-93c4-4e87-8556-9aa9295ec5fe",
   "metadata": {},
   "outputs": [],
   "source": [
    "test_path = os.path.join(os.getcwd(), \"stems\")"
   ]
  },
  {
   "cell_type": "code",
   "execution_count": 148,
   "id": "5846f54f-d6b9-4c00-b279-c83a969058c9",
   "metadata": {},
   "outputs": [],
   "source": [
    "metadata_extraction(test_path, tempo = 80, sound_class = \"hi\")"
   ]
  }
 ],
 "metadata": {
  "kernelspec": {
   "display_name": "Python 3 (ipykernel)",
   "language": "python",
   "name": "python3"
  },
  "language_info": {
   "codemirror_mode": {
    "name": "ipython",
    "version": 3
   },
   "file_extension": ".py",
   "mimetype": "text/x-python",
   "name": "python",
   "nbconvert_exporter": "python",
   "pygments_lexer": "ipython3",
   "version": "3.10.12"
  }
 },
 "nbformat": 4,
 "nbformat_minor": 5
}
