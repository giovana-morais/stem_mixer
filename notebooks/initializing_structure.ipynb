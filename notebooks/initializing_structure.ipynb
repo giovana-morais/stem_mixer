{
 "cells": [
  {
   "cell_type": "code",
   "execution_count": 193,
   "id": "a5e73f2d-71c4-4738-a7b5-04bab575fb16",
   "metadata": {},
   "outputs": [],
   "source": [
    "# metadata needed - assume user provides as much as possible as pre-processing step, library fills in the rest\n",
    "    # instrument\n",
    "    # tempo\n",
    "    # key\n",
    "    # percussive / harmonic / vocal --> sound_class\n",
    "\n",
    "# so our library ultimately takes a stem and its respective metadata folder as input\n",
    "\n",
    "# note: i think library should choose percussive stem as base \n",
    "\n",
    "# now we go through 4 cases: if instrument is missing, if tempo is missing, if key is missing, if percussive / harmonic / vocal is missing"
   ]
  },
  {
   "cell_type": "code",
   "execution_count": 230,
   "id": "7c131318-62d9-48ca-b303-3be59807e9fd",
   "metadata": {},
   "outputs": [],
   "source": [
    "import os\n",
    "import json\n",
    "import uuid\n",
    "import soundfile as sf\n",
    "import librosa\n",
    "import glob\n",
    "import random\n",
    "from IPython.display import Audio\n",
    "import numpy as np"
   ]
  },
  {
   "cell_type": "code",
   "execution_count": 195,
   "id": "2b5eb695-ae71-456b-9127-056397a90032",
   "metadata": {},
   "outputs": [],
   "source": [
    "# brid-preprocessing\n",
    "# need to assign null in all cases, don't want any empty variables. assign null in \"other\" folders\n",
    "\n",
    "def get_instrument_name(file_path):\n",
    "\n",
    "    instrument_folders = {\n",
    "            \"-PD\" : \"pandeiro\",\n",
    "            \"-TB\": \"tamborim\",\n",
    "            \"-RR\": \"reco-reco\",\n",
    "            \"-CX\": \"caixa\",\n",
    "            \"-RP\": \"repique\",\n",
    "            \"-CU\": \"cuica\",\n",
    "            \"-AG\": \"agogo\",\n",
    "            \"-SK\": \"shaker\",\n",
    "            \"-TT\": \"tanta\",\n",
    "            \"-SU\": \"surdo\"}\n",
    "    for key in instrument_folders:\n",
    "        if key in file_path:\n",
    "            return instrument_folders[key]\n",
    "            \n",
    "    return None\n",
    "\n",
    "def get_tempo(file_path):\n",
    "    \n",
    "    folders = [\"samba\",\"marcha\",\"partido alto\",\"samba-enredo\",\"other\",\"capoeira\"]\n",
    "    \n",
    "    style_folders = {\n",
    "        \"SA.wav\" : \"samba\",\n",
    "        \"PA.wav\": \"partido alto\",\n",
    "        \"CA.wav\": \"capoeira\",\n",
    "        \"SE.wav\": \"samba-enredo\",\n",
    "        \"MA.wav\": \"marcha\",\n",
    "        \"OT.wav\": \"other\"\n",
    "    }\n",
    "\n",
    "    style_to_tempo = {\n",
    "        \"samba\" : 80.0,\n",
    "        \"partido alto\" : 100.0,\n",
    "        \"samba-enredo\" : 130.0,\n",
    "        \"marcha\" : 120.0,\n",
    "        \"capoeira\" : 65.0\n",
    "    }\n",
    "    \n",
    "    style = None\n",
    "    \n",
    "    for suffix in style_folders:\n",
    "        if suffix in file_path:\n",
    "            style = style_folders[suffix]\n",
    "            \n",
    "    if style is None:\n",
    "        return None\n",
    "\n",
    "    if style in style_to_tempo:\n",
    "        return style_to_tempo[style]\n",
    "\n",
    "    return None"
   ]
  },
  {
   "cell_type": "code",
   "execution_count": 196,
   "id": "c3135ca4-9856-4821-b294-0e5dccd329a5",
   "metadata": {},
   "outputs": [],
   "source": [
    "test_path = os.path.join(\"/Users/lgpietrewicz/Documents/stem_mixer/stems\", \"[0111] S1-PD3-04-MA.wav\")"
   ]
  },
  {
   "cell_type": "code",
   "execution_count": 197,
   "id": "54128169-64b3-4522-8fc1-87b4c6f701ea",
   "metadata": {},
   "outputs": [],
   "source": [
    "tempo = get_tempo(test_path)\n",
    "instrument_name = get_instrument_name(test_path)\n",
    "key = None\n",
    "sound_class = \"percussive\""
   ]
  },
  {
   "cell_type": "code",
   "execution_count": 198,
   "id": "109a4130-e1a8-455c-927b-490434981cc4",
   "metadata": {},
   "outputs": [],
   "source": [
    "# musdb pre-processing \n",
    "\n",
    "def get_type_name(file_path):\n",
    "    \n",
    "    type_folders = [\"vocals\", \"drums\", \"bass\", \"other\"]\n",
    "    \n",
    "    for name in type_folders:\n",
    "        if name in file_path:\n",
    "            return name\n",
    "            \n",
    "    return None\n",
    "\n",
    "def get_sound_class(instrument_name):\n",
    "    if instrument_name == \"vocals\":\n",
    "        sound_class = \"vocals\"\n",
    "    elif instrument_name == \"drums\":\n",
    "        sound_class = \"percussive\"\n",
    "    elif instrument_name == \"bass\" or instrument_name == \"other\":\n",
    "        sound_class = \"harmonic\"\n",
    "    else:\n",
    "        sound_class = None\n",
    "\n",
    "    return sound_class"
   ]
  },
  {
   "cell_type": "code",
   "execution_count": 199,
   "id": "049be0f7-0056-4432-9789-3a8d17b80d4d",
   "metadata": {},
   "outputs": [],
   "source": [
    "tempo = None\n",
    "instrument_name = get_type_name(test_path)\n",
    "key = None \n",
    "sound_class = get_sound_class(test_path)"
   ]
  },
  {
   "cell_type": "markdown",
   "id": "881ddc85-e7dd-4d75-823f-85b3e2d7775d",
   "metadata": {},
   "source": [
    "To rename a file in Python, you can use the os. rename() function from the os module. The os. rename() function takes two arguments: the current name of the file or directory (source), and the new name (destination)."
   ]
  },
  {
   "cell_type": "code",
   "execution_count": 200,
   "id": "73906227-70ed-4997-8654-e19f6ab8812f",
   "metadata": {},
   "outputs": [],
   "source": [
    "test_path = os.path.join(\"/Users/lgpietrewicz/Documents/stem_mixer/stems\", \"Cristina Vane - So Easy - vocals.wav\")"
   ]
  },
  {
   "cell_type": "code",
   "execution_count": 201,
   "id": "94f9a91e-0119-4748-8795-9312ea989f67",
   "metadata": {},
   "outputs": [],
   "source": [
    "def metadata_extraction(path_to_stems, tempo = None, instrument_name = None, key = None, sound_class = None):\n",
    "    for root, dirs, files in os.walk(path_to_stems):\n",
    "        for file in files:\n",
    "            file_path = os.path.join(root, file)\n",
    "\n",
    "            if \".json\" in file_path:\n",
    "                continue\n",
    "                \n",
    "            if \".wav\" or \".mp3\" in file_path:\n",
    "                json_name = file_path[0:len(file_path)-4]\n",
    "            else:\n",
    "                json_name = file_path\n",
    "        \n",
    "            metadata = {}\n",
    "            metadata[\"tempo\"] = tempo\n",
    "            metadata[\"instrument_name\"] = instrument_name\n",
    "            metadata[\"key\"] = key\n",
    "            metadata[\"sound_class\"] = sound_class\n",
    "        \n",
    "            json_file_path = os.path.join(path_to_stems, f\"{json_name}.json\")\n",
    "            \n",
    "            with open(json_file_path, \"w\") as json_file:\n",
    "                    json.dump(metadata, json_file, indent=4)"
   ]
  },
  {
   "cell_type": "code",
   "execution_count": 202,
   "id": "9d8e97ed-93c4-4e87-8556-9aa9295ec5fe",
   "metadata": {},
   "outputs": [],
   "source": [
    "home = os.getcwd()\n",
    "test_path = os.path.join(home, \"stems\")"
   ]
  },
  {
   "cell_type": "code",
   "execution_count": 203,
   "id": "5846f54f-d6b9-4c00-b279-c83a969058c9",
   "metadata": {},
   "outputs": [],
   "source": [
    "metadata_extraction(test_path, tempo = 80, sound_class = \"hi\")"
   ]
  },
  {
   "cell_type": "code",
   "execution_count": 204,
   "id": "b174cd84-9463-408a-ad3d-e6bd115e22dd",
   "metadata": {},
   "outputs": [],
   "source": [
    "# overview of process: fill in \"None\" values. might need to do research --> one method might be best for something like drums,\n",
    "# other methods might work best for something like vocals. need to make sure all values are locked in before i start worrying about \n",
    "# generating mixtures "
   ]
  },
  {
   "cell_type": "code",
   "execution_count": 269,
   "id": "f23b6ee4-6fcb-4614-9949-8403e472be45",
   "metadata": {},
   "outputs": [],
   "source": [
    "# generating mixtures, ignoring all conditions / parameters\n",
    "# send these to output folder\n",
    "\n",
    "# want mixture outputs to be folders w n stems and mixture .wav or .mp3 files\n",
    "\n",
    "def generate_mixture(data_home, sr, n_stems = 4, base_stem = None, percussive_to_harmonic = None):\n",
    "\n",
    "    print(data_home)\n",
    "    # make folder to store all mixtures\n",
    "    mixture_folder = os.path.join(data_home, \"mixtures\")\n",
    "    os.makedirs(mixture_folder, exist_ok = True)\n",
    "\n",
    "    path_to_stems = os.path.join(data_home, \"stems\")\n",
    "\n",
    "    all_files = [os.path.join(path_to_stems, f) for f in os.listdir(path_to_stems) if os.path.isfile(os.path.join(path_to_stems, f))]\n",
    "\n",
    "    audio_files = []\n",
    "    for file in all_files:\n",
    "        if \".json\" not in file:\n",
    "            audio_files.append(file)\n",
    "            \n",
    "    if len(audio_files) < n_stems:\n",
    "        raise ValueError(f\"Not enough files in the directory to choose {num_files} random files.\")\n",
    "    \n",
    "    # select random files\n",
    "    random_files = random.sample(audio_files, n_stems)\n",
    "\n",
    "    print(random_files)\n",
    "\n",
    "    stem_audios = []\n",
    "    stem_audio_lengths = []\n",
    "    \n",
    "    for stem in random_files:\n",
    "\n",
    "        stem_audio, sr = librosa.load(stem, sr = sr)\n",
    "        stem_audio_len = len(stem_audio)\n",
    "            \n",
    "        stem_audios.append(stem_audio)\n",
    "        stem_audio_lengths.append(stem_audio_len)\n",
    "        \n",
    "        # display(Audio(stem_audio, rate=sr))\n",
    "\n",
    "    min_length = min(stem_audio_lengths)\n",
    "    min_pos = stem_audio_lengths.index(min_length)\n",
    "    print(min_length, min_pos)\n",
    "    mixture_audio = stem_audios[min_pos]\n",
    "\n",
    "    truncated_stems = []\n",
    "    for audio in stem_audios:\n",
    "        audio = audio[:min_length]\n",
    "        truncated_stems.append(audio)\n",
    "\n",
    "    for k in range(0, len(truncated_stems)):\n",
    "        if(k != min_pos): # already accounted for\n",
    "            print(len(truncated_stems[k]))\n",
    "            mixture_audio = mixture_audio + truncated_stems[k]\n",
    "\n",
    "    # give each mixture a random id\n",
    "    mixture_id = str(uuid.uuid4())\n",
    "    individual_output_folder = os.path.join(mixture_folder, mixture_id)\n",
    "    os.makedirs(individual_output_folder, exist_ok = True)\n",
    "\n",
    "    \n",
    "    sf.write(f\"{individual_output_folder}/mixture.wav\", mixture_audio, sr)"
   ]
  },
  {
   "cell_type": "code",
   "execution_count": 270,
   "id": "274a3f2a-a492-47f6-b31c-0a3a276d8d0b",
   "metadata": {},
   "outputs": [
    {
     "name": "stdout",
     "output_type": "stream",
     "text": [
      "/Users/lgpietrewicz/Documents/stem_mixer\n",
      "['/Users/lgpietrewicz/Documents/stem_mixer/stems/Bobby Nobody - Stitch Up - vocals.wav', '/Users/lgpietrewicz/Documents/stem_mixer/stems/Al James - Schoolboy Facination - drums.wav', '/Users/lgpietrewicz/Documents/stem_mixer/stems/PR - Happy Daze - bass.wav', '/Users/lgpietrewicz/Documents/stem_mixer/stems/[0273] S2-SU2-04-VPA.wav']\n",
      "1149231 3\n",
      "1149231\n",
      "1149231\n",
      "1149231\n"
     ]
    }
   ],
   "source": [
    "home = os.getcwd()\n",
    "sr = 41500\n",
    "\n",
    "generate_mixture(home, sr)"
   ]
  },
  {
   "cell_type": "code",
   "execution_count": null,
   "id": "c163d568-c082-427f-9683-09925ef92e53",
   "metadata": {},
   "outputs": [],
   "source": []
  }
 ],
 "metadata": {
  "kernelspec": {
   "display_name": "Python 3 (ipykernel)",
   "language": "python",
   "name": "python3"
  },
  "language_info": {
   "codemirror_mode": {
    "name": "ipython",
    "version": 3
   },
   "file_extension": ".py",
   "mimetype": "text/x-python",
   "name": "python",
   "nbconvert_exporter": "python",
   "pygments_lexer": "ipython3",
   "version": "3.10.12"
  }
 },
 "nbformat": 4,
 "nbformat_minor": 5
}
